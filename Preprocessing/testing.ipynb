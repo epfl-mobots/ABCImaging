{
 "cells": [
  {
   "cell_type": "markdown",
   "metadata": {},
   "source": [
    "### Testing different beautification techniques"
   ]
  },
  {
   "cell_type": "code",
   "execution_count": null,
   "metadata": {},
   "outputs": [],
   "source": [
    "from preproc import *\n",
    "\n",
    "root = '/Users/cyrilmonette/Desktop/EPFL 2018-2026/PhD - Mobots/data/24.09_observation_OH/Images/h1r1_1minute/'\n",
    "# List all files and take the 100th one\n",
    "flist = glob.glob(root + \"*.jpg\")\n",
    "flist = sorted(flist)\n",
    "\n",
    "img = cv.imread(flist[1000], cv.IMREAD_GRAYSCALE)\n",
    "processed_img = beautify_frame(img)\n",
    "\n",
    "# Show original and processed image side by side with matplotlib\n",
    "plt.figure(figsize=(16, 8))\n",
    "plt.subplot(1, 2, 1)\n",
    "plt.imshow(img, cmap='gray')\n",
    "plt.title('Original image')\n",
    "plt.subplot(1, 2, 2)\n",
    "plt.imshow(processed_img, cmap='gray')\n",
    "plt.title('Processed image')\n",
    "plt.show()\n",
    "\n",
    "# Save processed image as output.jpg in current directory and input image as input.jpg\n",
    "cv.imwrite('output.jpg', processed_img)\n",
    "cv.imwrite('input.jpg', img)"
   ]
  }
 ],
 "metadata": {
  "kernelspec": {
   "display_name": "imaging",
   "language": "python",
   "name": "python3"
  },
  "language_info": {
   "codemirror_mode": {
    "name": "ipython",
    "version": 3
   },
   "file_extension": ".py",
   "mimetype": "text/x-python",
   "name": "python",
   "nbconvert_exporter": "python",
   "pygments_lexer": "ipython3",
   "version": "3.12.6"
  }
 },
 "nbformat": 4,
 "nbformat_minor": 2
}
