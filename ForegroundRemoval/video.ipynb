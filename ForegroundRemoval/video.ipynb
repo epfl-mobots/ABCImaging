{
 "cells": [
  {
   "cell_type": "markdown",
   "metadata": {},
   "source": [
    "## Extraction of BG from a video through median filter.\n",
    "Here applied to a multiple frames. A video is then made out of it"
   ]
  },
  {
   "cell_type": "code",
   "execution_count": 3,
   "metadata": {},
   "outputs": [],
   "source": [
    "# Imports\n",
    "import sys, os\n",
    "from math import floor, ceil\n",
    "from tqdm import tqdm\n",
    "from pathlib import Path\n",
    "import cv2 as cv\n",
    "import matplotlib.pyplot as plt\n",
    "# setting path\n",
    "sys.path.append('../Preprocessing')\n",
    "sys.path.append('../BackgroundRemoval/6_median_filter_remove_bees')\n",
    "sys.path.append('../VideoManagment')\n",
    "sys.path.append('MedianFilter')\n",
    "from preproc import beautify_frame\n",
    "from median_image import median_filter\n",
    "from videolib import generateVideoFromList"
   ]
  },
  {
   "cell_type": "code",
   "execution_count": 14,
   "metadata": {},
   "outputs": [
    {
     "name": "stdout",
     "output_type": "stream",
     "text": [
      "Loading images…\n"
     ]
    },
    {
     "name": "stderr",
     "output_type": "stream",
     "text": [
      "100%|██████████| 110/110 [00:03<00:00, 35.60it/s]\n"
     ]
    },
    {
     "name": "stdout",
     "output_type": "stream",
     "text": [
      "Preprocessing images…\n"
     ]
    },
    {
     "name": "stderr",
     "output_type": "stream",
     "text": [
      "100%|██████████| 110/110 [00:09<00:00, 11.68it/s]\n"
     ]
    },
    {
     "name": "stdout",
     "output_type": "stream",
     "text": [
      "Applying median filter to all frames…\n"
     ]
    },
    {
     "name": "stderr",
     "output_type": "stream",
     "text": [
      "100%|██████████| 110/110 [00:18<00:00,  5.99it/s]\n"
     ]
    },
    {
     "name": "stdout",
     "output_type": "stream",
     "text": [
      "Length of the video:  10\n",
      "Writing video...\n"
     ]
    },
    {
     "name": "stderr",
     "output_type": "stream",
     "text": [
      "100%|██████████| 10/10 [00:00<00:00, 21.72it/s]\n"
     ]
    }
   ],
   "source": [
    "START_INDEX = 6890 # The index of the first image to use\n",
    "END_INDEX = 7000 # The index of the last image to use\n",
    "NUMB_IMAGES = 100 # Number of images used within the median filter. For a frame i, the images used are from i-floor(NUMB_IMAGES/2) to i+ceil(NUMB_IMAGES/2)\n",
    "FRAME_SKIPS = 1 # Number of frames to skip in between images used for background removal. Put 1 to use all images, 2 to use every other image, etc.\n",
    "\n",
    "img_path = '/Users/cyrilmonette/Desktop/EPFL 2018-2026/PhD - Mobots/data/24.09-24.10_observation_OH/Images/h1r1_1minute/'\n",
    "\n",
    "# Get the list of images\n",
    "files = os.listdir(img_path)\n",
    "files.sort()\n",
    "files = files[START_INDEX:END_INDEX]\n",
    "\n",
    "print(\"Loading images…\")\n",
    "images = [cv.imread(img_path+file, cv.IMREAD_GRAYSCALE) for file in tqdm(files)]\n",
    "\n",
    "# Preprocess the image\n",
    "print(\"Preprocessing images…\")\n",
    "images = [beautify_frame(img) for img in tqdm(images)]\n",
    "\n",
    "# Median filter the video\n",
    "final_imgs=[]\n",
    "print(\"Applying median filter to all frames…\")\n",
    "for i in tqdm(range(len(images))):\n",
    "    if i<FRAME_SKIPS*floor(NUMB_IMAGES/2) or i>=len(images)-FRAME_SKIPS*ceil(NUMB_IMAGES/2):\n",
    "        continue # Not enough images around to compute the median image\n",
    "    median_img = median_filter(images[i-FRAME_SKIPS*floor(NUMB_IMAGES/2):i+FRAME_SKIPS*ceil(NUMB_IMAGES/2):FRAME_SKIPS])\n",
    "    # Annotate the name of the file on the top left corner\n",
    "    cv.putText(median_img, files[i], (10, 70), cv.FONT_HERSHEY_SIMPLEX, 2, (255, 0, 0), 3, cv.LINE_AA)\n",
    "    final_imgs.append(median_img)\n",
    "\n",
    "# Check the length of the video\n",
    "print(\"Length of the video: \", len(final_imgs))\n",
    "# Save the video\n",
    "current_dir = Path().absolute() # Directory of current working directory\n",
    "save_dir = current_dir / 'MedianFilter/Outputs'\n",
    "generateVideoFromList(final_imgs, dest=save_dir, name = f'median_filter_n{NUMB_IMAGES}_s{FRAME_SKIPS}', fps= 30,grayscale=True)"
   ]
  }
 ],
 "metadata": {
  "kernelspec": {
   "display_name": "imaging",
   "language": "python",
   "name": "python3"
  },
  "language_info": {
   "codemirror_mode": {
    "name": "ipython",
    "version": 3
   },
   "file_extension": ".py",
   "mimetype": "text/x-python",
   "name": "python",
   "nbconvert_exporter": "python",
   "pygments_lexer": "ipython3",
   "version": "3.11.0"
  }
 },
 "nbformat": 4,
 "nbformat_minor": 2
}
