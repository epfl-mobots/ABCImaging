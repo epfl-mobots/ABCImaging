{
 "cells": [
  {
   "cell_type": "markdown",
   "id": "bcc45220",
   "metadata": {},
   "source": [
    "## This script generates a video from a sequence of pictures.\n"
   ]
  },
  {
   "cell_type": "code",
   "execution_count": 1,
   "id": "9c4b629d",
   "metadata": {},
   "outputs": [],
   "source": [
    "import cv2\n",
    "import os\n",
    "from tqdm import tqdm\n",
    "from videolib import initVideoWriter, imageHiveOverview\n",
    "import multiprocessing\n",
    "import pandas as pd"
   ]
  },
  {
   "cell_type": "markdown",
   "id": "b33bd793",
   "metadata": {},
   "source": [
    "## Configuration"
   ]
  },
  {
   "cell_type": "code",
   "execution_count": null,
   "id": "cb95224e",
   "metadata": {},
   "outputs": [],
   "source": [
    "# Path to the folder containing the pictures\n",
    "rootpath = '/Users/cyrilmonette/Library/CloudStorage/SynologyDrive-data/25.07_aSensing_OH/Images/'\n",
    "rootpath_img_period = 5 # Period between every image in the folder in minutes\n",
    "hive = \"1\"\n",
    "\n",
    "# The following are in CET time zone:\n",
    "first_dt_str = \"250722-230000\"\n",
    "last_dt_str = \"250723-151000\"\n",
    "\n",
    "frame_drop = 1 # We keep 1 frame every frame_drop frames. Put one to keep all frames.\n",
    "fps_video = 10 # Frames per second for the video"
   ]
  },
  {
   "cell_type": "markdown",
   "id": "0a6c2811",
   "metadata": {},
   "source": [
    "## Main code"
   ]
  },
  {
   "cell_type": "code",
   "execution_count": 3,
   "id": "5d90d8b5",
   "metadata": {},
   "outputs": [
    {
     "name": "stdout",
     "output_type": "stream",
     "text": [
      "First date:  2025-07-22 20:00:00+02:00\n",
      "Last date:  2025-07-23 15:10:00+02:00\n",
      "3379 3379 3379 3380\n",
      "Writing video...\n"
     ]
    },
    {
     "name": "stderr",
     "output_type": "stream",
     "text": [
      "100%|██████████| 231/231 [00:48<00:00,  4.72it/s]"
     ]
    },
    {
     "name": "stdout",
     "output_type": "stream",
     "text": [
      "Video written successfully.\n"
     ]
    },
    {
     "name": "stderr",
     "output_type": "stream",
     "text": [
      "\n"
     ]
    }
   ],
   "source": [
    "multiprocessing.set_start_method(\"fork\") # Use fork to avoid issues with cv2 and multiprocessing\n",
    "\n",
    "first_dt = pd.to_datetime(first_dt_str, format=\"%y%m%d-%H%M%S\").tz_localize('CET')\n",
    "last_dt = pd.to_datetime(last_dt_str, format=\"%y%m%d-%H%M%S\").tz_localize('CET')\n",
    "assert first_dt < last_dt, \"First date must be before last date\"\n",
    "print(\"First date: \", first_dt)\n",
    "print(\"Last date: \", last_dt)\n",
    "\n",
    "time_range = pd.date_range(start=first_dt, end=last_dt, freq=f\"{rootpath_img_period*frame_drop}min\")\n",
    "time_range_str = [dt.strftime(\"%y%m%d-%H%M%SZ\") for dt in time_range]\n",
    "# Remove seconds from the time range strings\n",
    "time_range_str = [ts[:-3] for ts in time_range_str]\n",
    "\n",
    "# Get the list of folders in the rootpath\n",
    "paths = [os.path.join(rootpath, f) for f in os.listdir(rootpath) if os.path.isdir(os.path.join(rootpath, f))]\n",
    "paths = [path for path in paths if \"h\"+hive in path]\n",
    "# Order the paths alphabetically\n",
    "paths.sort() # Now this contains the path to all RPis images\n",
    "\n",
    "# Generate first and last picture name\n",
    "rpis = [path.split(\"/\")[-1][3] for path in paths]\n",
    "first_pics = [\"hive\" + hive + \"_rpi\" + rpi + \"_\" + first_dt_str + \".jpg\" for rpi in rpis]\n",
    "last_pics = [\"hive\" + hive + \"_rpi\" + rpi + \"_\" + last_dt_str + \".jpg\" for rpi in rpis]\n",
    "\n",
    "# Get the list of files in the folders\n",
    "files = [os.listdir(path) for path in paths]\n",
    "# Sort the files by name\n",
    "for i in range(len(files)):\n",
    "    files[i].sort()\n",
    "    # Remove hidden files (starting with .)\n",
    "    files[i] = [f for f in files[i] if not f.startswith('.')]\n",
    "\n",
    "print(len(files[0]),len(files[1]),len(files[2]),len(files[3]))\n",
    "\n",
    "example_frame = imageHiveOverview([cv2.imread(os.path.join(paths[j], files[j][0])) for j in range(len(files))],\n",
    "                                    [\"hive\" + hive + \"_rpi\" + str(j+1) + \"_\" + files[j][0] for j in range(len(files))])\n",
    "video = initVideoWriter(dest=\"outputVideos/\", frame=example_frame,name=\"hive\" + hive + \"_\" + first_dt_str + \"_\" + last_dt_str,\n",
    "                        fps=fps_video, grayscale=False)\n",
    "print(\"Writing video...\")\n",
    "for i,ts in enumerate(tqdm(time_range_str)):\n",
    "    imgs = []\n",
    "    names = []\n",
    "    for j in range(len(files)):\n",
    "        # Check if the file exists\n",
    "        if any(ts in f for f in files[j]):\n",
    "            # Find the file that has ts in its name\n",
    "            file = [f for f in files[j] if ts in f][0]\n",
    "            names.append(file)\n",
    "            # Read the image\n",
    "            imgs.append(cv2.imread(os.path.join(paths[j], file)))\n",
    "        else:\n",
    "            # If the file does not exist, append a black image\n",
    "            names.append(\"hive\" + hive + \"_rpi\" + str(j+1) + \"_\" + ts + \".jpg\")\n",
    "            imgs.append(cv2.imread(os.path.join(paths[j], files[j][0])) * 0)\n",
    "    #imgs = [cv2.imread(os.path.join(paths[j], files[j][i])) for j in range(len(files))]\n",
    "\n",
    "    assembled_img = imageHiveOverview(imgs, names)\n",
    "    # Add the image to the list of images\n",
    "    video.write(assembled_img)\n",
    "\n",
    "# Release the VideoWriter object\n",
    "video.release()\n",
    "print(\"Video written successfully.\")"
   ]
  }
 ],
 "metadata": {
  "kernelspec": {
   "display_name": "imaging",
   "language": "python",
   "name": "python3"
  },
  "language_info": {
   "codemirror_mode": {
    "name": "ipython",
    "version": 3
   },
   "file_extension": ".py",
   "mimetype": "text/x-python",
   "name": "python",
   "nbconvert_exporter": "python",
   "pygments_lexer": "ipython3",
   "version": "3.11.0"
  }
 },
 "nbformat": 4,
 "nbformat_minor": 5
}
