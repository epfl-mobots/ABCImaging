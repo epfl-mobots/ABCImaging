{
 "cells": [
  {
   "cell_type": "markdown",
   "id": "bcc45220",
   "metadata": {},
   "source": [
    "## This script generates a video from a sequence of pictures."
   ]
  },
  {
   "cell_type": "code",
   "execution_count": null,
   "id": "9c4b629d",
   "metadata": {},
   "outputs": [],
   "source": [
    "import cv2\n",
    "import os, sys\n",
    "from tqdm import tqdm\n",
    "from videolib import initVideoWriter, imageHiveOverview\n",
    "sys.path.append(\"..\")\n",
    "from ForegroundRemoval.PercentileFilter.percentile import percentile_filter_single\n",
    "import pandas as pd\n",
    "pd.set_option('display.width', 1000)\n",
    "sys.path.append(\"..\")\n",
    "from libimage import fetchImagesPaths\n",
    "from dask.distributed import Client\n",
    "from dask import compute\n",
    "# Start a client using all CPUs of this machine\n",
    "client = Client()\n",
    "client"
   ]
  },
  {
   "cell_type": "markdown",
   "id": "b33bd793",
   "metadata": {},
   "source": [
    "## Configuration"
   ]
  },
  {
   "cell_type": "code",
   "execution_count": null,
   "id": "cb95224e",
   "metadata": {},
   "outputs": [],
   "source": [
    "# Path to the folder containing the pictures\n",
    "rootpath = '/Users/cyrilmonette/Library/CloudStorage/SynologyDrive-data/25.07-25.10_aSensing_OH/Images/'\n",
    "rootpath_img_period = 5 # Period between every image in the folder in minutes\n",
    "hive = \"1\"\n",
    "\n",
    "# The following are in CET time zone:\n",
    "first_dt_str = \"250731-150000\"\n",
    "last_dt_str = \"251016-100000\"\n",
    "\n",
    "frame_drop = 1 # We keep 1 frame every frame_drop frames. Put one to keep all frames.\n",
    "fps_video = 10 # Frames per second for the video\n",
    "\n",
    "remove_bees = False # If True, we remove bees using a percentile filter"
   ]
  },
  {
   "cell_type": "markdown",
   "id": "0a6c2811",
   "metadata": {},
   "source": [
    "## Main code"
   ]
  },
  {
   "cell_type": "code",
   "execution_count": null,
   "id": "5d90d8b5",
   "metadata": {},
   "outputs": [],
   "source": [
    "first_dt = pd.to_datetime(first_dt_str, format=\"%y%m%d-%H%M%S\").tz_localize('CET')\n",
    "last_dt = pd.to_datetime(last_dt_str, format=\"%y%m%d-%H%M%S\").tz_localize('CET')\n",
    "assert first_dt < last_dt, \"First date must be before last date\"\n",
    "print(\"First date: \", first_dt)\n",
    "print(\"Last date: \", last_dt)\n",
    "\n",
    "time_range = pd.date_range(start=first_dt, end=last_dt, freq=f\"{rootpath_img_period*frame_drop}min\")\n",
    "time_range = time_range.to_list()\n",
    "print(\"Length time range: \", len(time_range))\n",
    "img_paths = fetchImagesPaths(rootpath, time_range, hive, invalid_recovery_time=120,images_fill_limit=None)\n",
    "print(img_paths.head())\n",
    "\n",
    "# Find the first index of img_paths that does not contain Nones in any column\n",
    "first_valid_index = img_paths.dropna(how='all', inplace=False).index[0]\n",
    "example_frame = imageHiveOverview([cv2.imread(img_paths.loc[first_valid_index].iloc[j]) for j in range(4)], False,\n",
    "                                  [\"hive\" + hive + \"_rpi\" + str(j+1) + \"_\" + img_paths.loc[first_valid_index].iloc[j] for j in range(4)])\n",
    "name = \"hive\" + hive + \"_\" + first_dt.tz_convert('UTC').strftime(\"%y%m%d-%H%M%SZ\") + \"_\" + last_dt.tz_convert('UTC').strftime(\"%y%m%d-%H%M%SZ\")\n",
    "if remove_bees:\n",
    "    name += \"_beesRemoved\"\n",
    "video = initVideoWriter(dest=\"outputVideos/\", frame=example_frame,name=name, fps=fps_video, grayscale=False)\n",
    "print(\"Writing video with dimensions: \", example_frame.shape)\n",
    "\n",
    "# Iterate over img_paths DataFrame\n",
    "for i, row in tqdm(img_paths.iterrows(), total=img_paths.shape[0]):\n",
    "    imgs = []\n",
    "    names = []\n",
    "    validity = True \n",
    "    if 'valid' in row:\n",
    "        validity = row['valid']\n",
    "        row.drop('valid', inplace=True)\n",
    "\n",
    "    for j in range(len(row)):\n",
    "        if row.iloc[j] is not None:\n",
    "            file_path = row.iloc[j]\n",
    "            names.append(os.path.basename(file_path))  # Get the file name\n",
    "            if remove_bees:\n",
    "                _img, _ = percentile_filter_single(file_path,percentile=90, filter_length=20, frame_skip=5, annotate_names=False, verbose=False)\n",
    "            else:\n",
    "                _img = cv2.imread(file_path)\n",
    "            imgs.append(_img)\n",
    "        else:\n",
    "            # If the file does not exist, append a black image\n",
    "            names.append(\"No image available\")\n",
    "            # Append a black image of the same size as the example frame\n",
    "            imgs.append(cv2.imread(img_paths.loc[first_valid_index].iloc[j]) * 0)\n",
    "\n",
    "    if remove_bees:\n",
    "        imgs = compute(*imgs)\n",
    "        # Convert the images to rgb from grayscale\n",
    "        imgs = [cv2.cvtColor(img, cv2.COLOR_GRAY2BGR) if len(img.shape) == 2 else img for img in imgs]\n",
    "    assembled_img = imageHiveOverview(imgs, img_names=names, dt=i, valid=validity)\n",
    "    video.write(assembled_img)\n",
    "\n",
    "# Release the VideoWriter object\n",
    "video.release()\n",
    "print(\"Video written successfully.\")"
   ]
  }
 ],
 "metadata": {
  "kernelspec": {
   "display_name": "imaging",
   "language": "python",
   "name": "python3"
  },
  "language_info": {
   "codemirror_mode": {
    "name": "ipython",
    "version": 3
   },
   "file_extension": ".py",
   "mimetype": "text/x-python",
   "name": "python",
   "nbconvert_exporter": "python",
   "pygments_lexer": "ipython3",
   "version": "3.11.0"
  }
 },
 "nbformat": 4,
 "nbformat_minor": 5
}
